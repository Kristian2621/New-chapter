{
  "nbformat": 4,
  "nbformat_minor": 0,
  "metadata": {
    "colab": {
      "name": "Untitled4.ipynb",
      "provenance": [],
      "authorship_tag": "ABX9TyNLIygZ9YhMipcmKfKH5o9h",
      "include_colab_link": true
    },
    "kernelspec": {
      "name": "python3",
      "display_name": "Python 3"
    },
    "language_info": {
      "name": "python"
    }
  },
  "cells": [
    {
      "cell_type": "markdown",
      "metadata": {
        "id": "view-in-github",
        "colab_type": "text"
      },
      "source": [
        "<a href=\"https://colab.research.google.com/github/Kristian2621/New-chapter/blob/main/ifelse.ipynb\" target=\"_parent\"><img src=\"https://colab.research.google.com/assets/colab-badge.svg\" alt=\"Open In Colab\"/></a>"
      ]
    },
    {
      "cell_type": "code",
      "metadata": {
        "colab": {
          "base_uri": "https://localhost:8080/"
        },
        "id": "NlqmJG9XLFqX",
        "outputId": "93f2f1ca-526c-4ae5-9754-617503b70b36"
      },
      "source": [
        "if __name__ == '__main__':\n",
        "    n = int(input().strip())\n",
        "if n % 2 == 0:\n",
        "    if n in range(2,6):\n",
        "        print(\"Not Weird\")\n",
        "\n",
        "    elif n in range(6,21):\n",
        "        print(\"Weird\")\n",
        "\n",
        "    elif n > 20:\n",
        "        print(\"Not Weird\")\n",
        "else:\n",
        "    print(\"Weird\")"
      ],
      "execution_count": 3,
      "outputs": [
        {
          "output_type": "stream",
          "text": [
            "10\n",
            "Weird\n"
          ],
          "name": "stdout"
        }
      ]
    }
  ]
}