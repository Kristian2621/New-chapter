{
  "nbformat": 4,
  "nbformat_minor": 0,
  "metadata": {
    "colab": {
      "name": "Untitled7.ipynb",
      "provenance": [],
      "collapsed_sections": [],
      "authorship_tag": "ABX9TyMOAmoNT78Ld98mhCD285Uc",
      "include_colab_link": true
    },
    "kernelspec": {
      "name": "python3",
      "display_name": "Python 3"
    },
    "language_info": {
      "name": "python"
    }
  },
  "cells": [
    {
      "cell_type": "markdown",
      "metadata": {
        "id": "view-in-github",
        "colab_type": "text"
      },
      "source": [
        "<a href=\"https://colab.research.google.com/github/Kristian2621/New-chapter/blob/main/Suniisi_mani.ipynb\" target=\"_parent\"><img src=\"https://colab.research.google.com/assets/colab-badge.svg\" alt=\"Open In Colab\"/></a>"
      ]
    },
    {
      "cell_type": "code",
      "metadata": {
        "id": "juTny0As6iqd",
        "colab": {
          "base_uri": "https://localhost:8080/"
        },
        "outputId": "c044261a-39ba-47b1-a378-d0a0ab20fbec"
      },
      "source": [
        "class Dog:\n",
        "    species = \"vilks\"\n",
        "\n",
        "    def __init__(self, name, age, breed):\n",
        "        self.name = name\n",
        "        self.age = age\n",
        "        self.breed = breed\n",
        "d1 = Dog ('Riko','8','vilks') \n",
        "d2 = Dog ('Zoro', '2', 'vacuaitu') \n",
        "print(\"Manu suni sauc \" + d1.name + ' viņam ir ' + d1.age + ' pēc sugas ' + d1.breed)     \n",
        "print(\"Manu suni sauc \" + d2.name + ' viņam ir ' + d2.age + ' pēc sugas ' + d2.breed)      \n",
        "  \n",
        "\n"
      ],
      "execution_count": 22,
      "outputs": [
        {
          "output_type": "stream",
          "text": [
            "Manu suni sauc Riko viņam ir 8 pēc sugas vilks\n",
            "Manu suni sauc Zoro viņam ir 2 pēc sugas vacuaitu\n"
          ],
          "name": "stdout"
        }
      ]
    }
  ]
}