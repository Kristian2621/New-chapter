{
  "nbformat": 4,
  "nbformat_minor": 0,
  "metadata": {
    "colab": {
      "name": "JAVA.ipynb",
      "provenance": [],
      "authorship_tag": "ABX9TyMFHEE8MCgU0aOBnoos286a",
      "include_colab_link": true
    },
    "kernelspec": {
      "name": "python3",
      "display_name": "Python 3"
    },
    "language_info": {
      "name": "python"
    }
  },
  "cells": [
    {
      "cell_type": "markdown",
      "metadata": {
        "id": "view-in-github",
        "colab_type": "text"
      },
      "source": [
        "<a href=\"https://colab.research.google.com/github/Kristian2621/New-chapter/blob/main/JAVA.ipynb\" target=\"_parent\"><img src=\"https://colab.research.google.com/assets/colab-badge.svg\" alt=\"Open In Colab\"/></a>"
      ]
    },
    {
      "cell_type": "code",
      "metadata": {
        "id": "7NFcXyszSRi5"
      },
      "source": [
        "let user = {\n",
        "  name: 'Peteris',\n",
        "  age: 19,\n",
        "  email: 'Peterisgood123@gmail.com',\n",
        "  location: 'Riga',\n",
        "  blogs: ['Kapēc jāmāk dzert', 'Dzert nov veselīgi']};\n",
        "\n",
        "console.log(user);\n",
        "console.log(user.name);\n",
        "console.log(user.age);\n",
        "console.log(user.['email']);\n",
        "user['name'] = 'Jānis';\n",
        "console.log(user.name);"
      ],
      "execution_count": null,
      "outputs": []
    },
    {
      "cell_type": "code",
      "metadata": {
        "id": "3cYe2mRFSVl5"
      },
      "source": [
        "let user = {\n",
        "  name: 'Peteris',\n",
        "  age: 19,\n",
        "  email: 'Peterisgood123@gmail.com',\n",
        "  location: 'Riga',\n",
        "  blogs: ['Kapēc jāmāk dzert', 'Dzert nov veselīgi'],\n",
        "  login: function(){\n",
        "    console.log('the user loged in')\n",
        "  }, \n",
        "  login: function(){\n",
        "    console.log('the user loged in')\n",
        "  }, \n",
        "  logBlogs: function(){\n",
        "    consule.log(this user has written folowing blogs:);\n",
        "    this.blogs.forEach(blog => {\n",
        "      consule.log(blog);\n",
        "    })\n",
        "  };\n",
        "};\n",
        "\n",
        "consule.log(this);\n",
        "//user.logBlogs();\n",
        "\n",
        "user.login();\n",
        "\n",
        "const name = 'mario';\n",
        "name.toUpperCase();\n",
        "\n",
        "console.log(user);\n",
        "console.log(user.name);\n",
        "console.log(user.age);\n",
        "\n",
        "const key = 'location';\n",
        "\n",
        "console.log(user[key]);\n",
        "\n",
        "console.log(user.['email']);\n",
        "user['name'] = 'Jānis';\n",
        "console.log(user.name);\n",
        "consule.log(typeof user);"
      ],
      "execution_count": null,
      "outputs": []
    }
  ]
}