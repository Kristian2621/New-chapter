{
  "nbformat": 4,
  "nbformat_minor": 0,
  "metadata": {
    "colab": {
      "name": "Untitled2.ipynb",
      "provenance": [],
      "authorship_tag": "ABX9TyNCHwahAnJyKtxgjqM8dh3f",
      "include_colab_link": true
    },
    "kernelspec": {
      "name": "python3",
      "display_name": "Python 3"
    },
    "language_info": {
      "name": "python"
    }
  },
  "cells": [
    {
      "cell_type": "markdown",
      "metadata": {
        "id": "view-in-github",
        "colab_type": "text"
      },
      "source": [
        "<a href=\"https://colab.research.google.com/github/Kristian2621/New-chapter/blob/main/goodcode.ipynb\" target=\"_parent\"><img src=\"https://colab.research.google.com/assets/colab-badge.svg\" alt=\"Open In Colab\"/></a>"
      ]
    },
    {
      "cell_type": "code",
      "metadata": {
        "colab": {
          "base_uri": "https://localhost:8080/"
        },
        "id": "WMNpZS6N4qGy",
        "outputId": "dfc217d8-dc19-43ff-ac28-daad4d3f57e9"
      },
      "source": [
        "import ctypes\n",
        "\n",
        "def split( string: str ) -> ctypes.Array:\n",
        "    return [char for char in string]\n",
        "\n",
        "def list_to_string( array ) -> str:\n",
        "    str = \"\"\n",
        "    for i in array:\n",
        "        str += i\n",
        "    return str\n",
        "\n",
        "def sort_alphabetical_order(input_string : str) -> str:\n",
        "\n",
        "    input_string = input_string.lower() # FIXME: without this we will get wrong results as capital chars have a lower number then lowercase\n",
        "    array = split(input_string)\n",
        "\n",
        "    n = len(array)\n",
        "\n",
        "    for i in range(n):\n",
        "        for j in range(n - i - 1):\n",
        "            if array[j] > array[j + 1]:\n",
        "                temp_var = array[j]\n",
        "                array[j] = array[j + 1]\n",
        "                array[j + 1] = temp_var\n",
        "                \n",
        "    \n",
        "    new_string = list_to_string(array)\n",
        "    return new_string\n",
        "\n",
        "str = input(\" input any text you would like to sort in alphabetical order! \")\n",
        "\n",
        "\n",
        "new_string = sort_alphabetical_order(str)\n",
        "print(new_string)"
      ],
      "execution_count": 1,
      "outputs": [
        {
          "output_type": "stream",
          "text": [
            " input any text you would like to sort in alphabetical order! Kristians\n",
            "aiiknrsst\n"
          ],
          "name": "stdout"
        }
      ]
    }
  ]
}