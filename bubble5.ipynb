{
  "nbformat": 4,
  "nbformat_minor": 0,
  "metadata": {
    "colab": {
      "name": "Untitled5.ipynb",
      "provenance": [],
      "authorship_tag": "ABX9TyMWSig833lRcsoIUM4I4JfO",
      "include_colab_link": true
    },
    "kernelspec": {
      "name": "python3",
      "display_name": "Python 3"
    },
    "language_info": {
      "name": "python"
    }
  },
  "cells": [
    {
      "cell_type": "markdown",
      "metadata": {
        "id": "view-in-github",
        "colab_type": "text"
      },
      "source": [
        "<a href=\"https://colab.research.google.com/github/Kristian2621/New-chapter/blob/main/bubble5.ipynb\" target=\"_parent\"><img src=\"https://colab.research.google.com/assets/colab-badge.svg\" alt=\"Open In Colab\"/></a>"
      ]
    },
    {
      "cell_type": "code",
      "metadata": {
        "id": "jQ2w2YZEQwjq"
      },
      "source": [
        "#!/bin/python3\n",
        "\n",
        "import math\n",
        "import os\n",
        "import random\n",
        "import re\n",
        "import sys\n",
        "\n",
        "#\n",
        "# Complete the 'countSwaps' function below.\n",
        "#\n",
        "# The function accepts INTEGER_ARRAY a as parameter.\n",
        "#\n",
        "\n",
        "def countSwaps(a):\n",
        "  if __name__ == '__main__':\n",
        "    n = int(input())\n",
        "\n",
        "    a = list(map(int, input().rstrip().split()))\n",
        "def countSwaps(a):\n",
        "    count = 0\n",
        "    for num in range(len(a)-1,0,-1):\n",
        "        for i in range(num):\n",
        "            if a[i] > a[i+1]:\n",
        "                temp = a[i]\n",
        "                a[i] = a[i+1]\n",
        "                a[i+1] = temp\n",
        "                count += 1\n",
        "    \n",
        "    print('Array is sorted in', count, 'swaps.')\n",
        "    print('First Element:', a[0])\n",
        "    print('Last Element:', a[-1])\n",
        "  # Write your code here\n",
        "\n",
        "if __name__ == '__main__':\n",
        "    n = int(input().strip())\n",
        "\n",
        "    a = list(map(int, input().rstrip().split()))\n",
        "\n",
        "    countSwaps(a)\n"
      ],
      "execution_count": null,
      "outputs": []
    }
  ]
}