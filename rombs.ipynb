{
  "nbformat": 4,
  "nbformat_minor": 0,
  "metadata": {
    "colab": {
      "name": "Untitled6.ipynb",
      "provenance": [],
      "authorship_tag": "ABX9TyM4UaMOFRt1ei2tep0HQ+G4",
      "include_colab_link": true
    },
    "kernelspec": {
      "name": "python3",
      "display_name": "Python 3"
    },
    "language_info": {
      "name": "python"
    }
  },
  "cells": [
    {
      "cell_type": "markdown",
      "metadata": {
        "id": "view-in-github",
        "colab_type": "text"
      },
      "source": [
        "<a href=\"https://colab.research.google.com/github/Kristian2621/New-chapter/blob/main/rombs.ipynb\" target=\"_parent\"><img src=\"https://colab.research.google.com/assets/colab-badge.svg\" alt=\"Open In Colab\"/></a>"
      ]
    },
    {
      "cell_type": "code",
      "metadata": {
        "colab": {
          "base_uri": "https://localhost:8080/"
        },
        "id": "xVtGqW1peY-A",
        "outputId": "a990ed84-f826-4505-809b-5604cb904c8c"
      },
      "source": [
        "h = int(input(\"Put a uneven number here:\"))\n",
        "\n",
        "if h % 2 == 0:\n",
        "    h = int(input(\"Uneven number:\"))\n",
        "else:\n",
        "    for i in range(1, h, 2):\n",
        "        print(\" \" * (h//2 - i//2), \"*\" * i)\n",
        "    for i in range(h, 0, -2):\n",
        "        print(\" \" * (h//2 - i//2), \"*\" * i)"
      ],
      "execution_count": 1,
      "outputs": [
        {
          "output_type": "stream",
          "text": [
            "Put a number here:7\n",
            "    *\n",
            "   ***\n",
            "  *****\n",
            " *******\n",
            "  *****\n",
            "   ***\n",
            "    *\n"
          ],
          "name": "stdout"
        }
      ]
    }
  ]
}